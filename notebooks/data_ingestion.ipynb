{
 "cells": [
  {
   "cell_type": "code",
   "execution_count": 1,
   "metadata": {},
   "outputs": [],
   "source": [
    "import os\n",
    "import sys\n",
    "ROOT_DIR = os.path.abspath(os.path.join(os.getcwd(), \"..\"))\n",
    "sys.path.append(ROOT_DIR)\n",
    "import boto3\n",
    "import logging\n",
    "import requests\n",
    "import pandas as pd\n",
    "from dotenv import load_dotenv\n",
    "from src.config import RAW_DATA_DIR"
   ]
  },
  {
   "cell_type": "code",
   "execution_count": 2,
   "metadata": {},
   "outputs": [
    {
     "name": "stdout",
     "output_type": "stream",
     "text": [
      "e:\\OneDrive\\Documents\\GitHub\\NYC_Taxi_ML_Pipeline\\notebooks\n"
     ]
    }
   ],
   "source": [
    "print(os.getcwd())"
   ]
  },
  {
   "cell_type": "markdown",
   "metadata": {},
   "source": [
    "Experimental code for Taxi Data API"
   ]
  },
  {
   "cell_type": "code",
   "execution_count": 2,
   "metadata": {},
   "outputs": [],
   "source": [
    "# load_dotenv()\n",
    "\n",
    "# aws_access_key = os.getenv(\"AWS_ACCESS_KEY_ID\")\n",
    "# aws_secret_key = os.getenv(\"AWS_SECRET_ACESS_KEY\")\n",
    "# aws_region = os.getenv(\"AWS_REGION\")\n",
    "\n",
    "session = boto3.Session()\n",
    "credentials = session.get_credentials()"
   ]
  },
  {
   "cell_type": "code",
   "execution_count": 3,
   "metadata": {},
   "outputs": [],
   "source": [
    "# S3_BUCKET = os.getenv('AWS_S3_BUCKET')\n",
    "s3_client = session.client('s3')\n",
    "bucket_name = \"nyc-tlc\"\n",
    "file_key = \"trip data/yellow_tripdata_2024-03.parquet\"\n",
    "local_file = \"data/raw/yellow_tripdata_2024-03.parquet\""
   ]
  },
  {
   "cell_type": "code",
   "execution_count": 4,
   "metadata": {},
   "outputs": [
    {
     "name": "stdout",
     "output_type": "stream",
     "text": [
      "Failed to download file: An error occurred (403) when calling the HeadObject operation: Forbidden\n"
     ]
    }
   ],
   "source": [
    "try:\n",
    "    s3_client.download_file(bucket_name, file_key, local_file)\n",
    "    print(f\"Downloaded {file_key} from {bucket_name} to {local_file}\")\n",
    "except Exception as e:\n",
    "    print(f\"Failed to download file: {e}\")"
   ]
  },
  {
   "cell_type": "code",
   "execution_count": null,
   "metadata": {},
   "outputs": [
    {
     "name": "stdout",
     "output_type": "stream",
     "text": [
      "✅ Data fetched and saved successfully.\n"
     ]
    }
   ],
   "source": [
    "# API endpoint for 2023 Yellow Taxi Trip Data\n",
    "api_url = \"https://data.cityofnewyork.us/resource/4b4i-vvec.json\"\n",
    "\n",
    "# Parameters for stable pagination\n",
    "params = {\n",
    "    \"$limit\": 1000,          # Fetch 1000 records per request\n",
    "    \"$offset\": 0,            # Start at record 0, increment for pagination\n",
    "    \"$order\": \"tpep_pickup_datetime ASC\",         # Ensure stable ordering\n",
    "}\n",
    "\n",
    "# Fetch data\n",
    "response = requests.get(api_url, params=params)\n",
    "\n",
    "if response.status_code == 200:\n",
    "    data = response.json()\n",
    "    df = pd.DataFrame(data)\n",
    "    df.to_csv(f\"{RAW_DATA_DIR}/yellow_taxi_2023_sample.csv\", index=False)\n",
    "    print(\"✅ Data fetched and saved successfully.\")\n",
    "else:\n",
    "    print(f\"❌ Error: {response.status_code}, {response.text}\")\n"
   ]
  }
 ],
 "metadata": {
  "kernelspec": {
   "display_name": "nyc_taxi_env",
   "language": "python",
   "name": "python3"
  },
  "language_info": {
   "codemirror_mode": {
    "name": "ipython",
    "version": 3
   },
   "file_extension": ".py",
   "mimetype": "text/x-python",
   "name": "python",
   "nbconvert_exporter": "python",
   "pygments_lexer": "ipython3",
   "version": "3.12.9"
  }
 },
 "nbformat": 4,
 "nbformat_minor": 2
}
